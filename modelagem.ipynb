{
 "cells": [
  {
   "cell_type": "code",
   "execution_count": 7,
   "id": "c1f0a54b",
   "metadata": {},
   "outputs": [
    {
     "name": "stdout",
     "output_type": "stream",
     "text": [
      "Requirement already satisfied: pandas in c:\\users\\abreu\\desktop\\python\\modelo_de_inadimplencia_e_score\\venv\\lib\\site-packages (2.3.3)\n",
      "Requirement already satisfied: numpy>=1.26.0 in c:\\users\\abreu\\desktop\\python\\modelo_de_inadimplencia_e_score\\venv\\lib\\site-packages (from pandas) (2.3.3)\n",
      "Requirement already satisfied: python-dateutil>=2.8.2 in c:\\users\\abreu\\desktop\\python\\modelo_de_inadimplencia_e_score\\venv\\lib\\site-packages (from pandas) (2.9.0.post0)\n",
      "Requirement already satisfied: pytz>=2020.1 in c:\\users\\abreu\\desktop\\python\\modelo_de_inadimplencia_e_score\\venv\\lib\\site-packages (from pandas) (2025.2)\n",
      "Requirement already satisfied: tzdata>=2022.7 in c:\\users\\abreu\\desktop\\python\\modelo_de_inadimplencia_e_score\\venv\\lib\\site-packages (from pandas) (2025.2)\n",
      "Requirement already satisfied: six>=1.5 in c:\\users\\abreu\\desktop\\python\\modelo_de_inadimplencia_e_score\\venv\\lib\\site-packages (from python-dateutil>=2.8.2->pandas) (1.17.0)\n",
      "Note: you may need to restart the kernel to use updated packages.\n"
     ]
    },
    {
     "name": "stderr",
     "output_type": "stream",
     "text": [
      "\n",
      "[notice] A new release of pip is available: 25.0.1 -> 25.2\n",
      "[notice] To update, run: python.exe -m pip install --upgrade pip\n"
     ]
    },
    {
     "name": "stdout",
     "output_type": "stream",
     "text": [
      "Requirement already satisfied: scikit-learn in c:\\users\\abreu\\desktop\\python\\modelo_de_inadimplencia_e_score\\venv\\lib\\site-packages (1.7.2)\n",
      "Requirement already satisfied: numpy>=1.22.0 in c:\\users\\abreu\\desktop\\python\\modelo_de_inadimplencia_e_score\\venv\\lib\\site-packages (from scikit-learn) (2.3.3)\n",
      "Requirement already satisfied: scipy>=1.8.0 in c:\\users\\abreu\\desktop\\python\\modelo_de_inadimplencia_e_score\\venv\\lib\\site-packages (from scikit-learn) (1.16.2)\n",
      "Requirement already satisfied: joblib>=1.2.0 in c:\\users\\abreu\\desktop\\python\\modelo_de_inadimplencia_e_score\\venv\\lib\\site-packages (from scikit-learn) (1.5.2)\n",
      "Requirement already satisfied: threadpoolctl>=3.1.0 in c:\\users\\abreu\\desktop\\python\\modelo_de_inadimplencia_e_score\\venv\\lib\\site-packages (from scikit-learn) (3.6.0)\n",
      "Note: you may need to restart the kernel to use updated packages.\n"
     ]
    },
    {
     "name": "stderr",
     "output_type": "stream",
     "text": [
      "\n",
      "[notice] A new release of pip is available: 25.0.1 -> 25.2\n",
      "[notice] To update, run: python.exe -m pip install --upgrade pip\n"
     ]
    },
    {
     "name": "stdout",
     "output_type": "stream",
     "text": [
      "Requirement already satisfied: matplotlib in c:\\users\\abreu\\desktop\\python\\modelo_de_inadimplencia_e_score\\venv\\lib\\site-packages (3.10.7)\n",
      "Requirement already satisfied: contourpy>=1.0.1 in c:\\users\\abreu\\desktop\\python\\modelo_de_inadimplencia_e_score\\venv\\lib\\site-packages (from matplotlib) (1.3.3)\n",
      "Requirement already satisfied: cycler>=0.10 in c:\\users\\abreu\\desktop\\python\\modelo_de_inadimplencia_e_score\\venv\\lib\\site-packages (from matplotlib) (0.12.1)\n",
      "Requirement already satisfied: fonttools>=4.22.0 in c:\\users\\abreu\\desktop\\python\\modelo_de_inadimplencia_e_score\\venv\\lib\\site-packages (from matplotlib) (4.60.1)\n",
      "Requirement already satisfied: kiwisolver>=1.3.1 in c:\\users\\abreu\\desktop\\python\\modelo_de_inadimplencia_e_score\\venv\\lib\\site-packages (from matplotlib) (1.4.9)\n",
      "Requirement already satisfied: numpy>=1.23 in c:\\users\\abreu\\desktop\\python\\modelo_de_inadimplencia_e_score\\venv\\lib\\site-packages (from matplotlib) (2.3.3)\n",
      "Requirement already satisfied: packaging>=20.0 in c:\\users\\abreu\\desktop\\python\\modelo_de_inadimplencia_e_score\\venv\\lib\\site-packages (from matplotlib) (25.0)\n",
      "Requirement already satisfied: pillow>=8 in c:\\users\\abreu\\desktop\\python\\modelo_de_inadimplencia_e_score\\venv\\lib\\site-packages (from matplotlib) (11.3.0)\n",
      "Requirement already satisfied: pyparsing>=3 in c:\\users\\abreu\\desktop\\python\\modelo_de_inadimplencia_e_score\\venv\\lib\\site-packages (from matplotlib) (3.2.5)\n",
      "Requirement already satisfied: python-dateutil>=2.7 in c:\\users\\abreu\\desktop\\python\\modelo_de_inadimplencia_e_score\\venv\\lib\\site-packages (from matplotlib) (2.9.0.post0)\n",
      "Requirement already satisfied: six>=1.5 in c:\\users\\abreu\\desktop\\python\\modelo_de_inadimplencia_e_score\\venv\\lib\\site-packages (from python-dateutil>=2.7->matplotlib) (1.17.0)\n",
      "Note: you may need to restart the kernel to use updated packages.\n"
     ]
    },
    {
     "name": "stderr",
     "output_type": "stream",
     "text": [
      "\n",
      "[notice] A new release of pip is available: 25.0.1 -> 25.2\n",
      "[notice] To update, run: python.exe -m pip install --upgrade pip\n"
     ]
    },
    {
     "name": "stdout",
     "output_type": "stream",
     "text": [
      "Requirement already satisfied: seaborn in c:\\users\\abreu\\desktop\\python\\modelo_de_inadimplencia_e_score\\venv\\lib\\site-packages (0.13.2)\n",
      "Requirement already satisfied: numpy!=1.24.0,>=1.20 in c:\\users\\abreu\\desktop\\python\\modelo_de_inadimplencia_e_score\\venv\\lib\\site-packages (from seaborn) (2.3.3)\n",
      "Requirement already satisfied: pandas>=1.2 in c:\\users\\abreu\\desktop\\python\\modelo_de_inadimplencia_e_score\\venv\\lib\\site-packages (from seaborn) (2.3.3)\n",
      "Requirement already satisfied: matplotlib!=3.6.1,>=3.4 in c:\\users\\abreu\\desktop\\python\\modelo_de_inadimplencia_e_score\\venv\\lib\\site-packages (from seaborn) (3.10.7)\n",
      "Requirement already satisfied: contourpy>=1.0.1 in c:\\users\\abreu\\desktop\\python\\modelo_de_inadimplencia_e_score\\venv\\lib\\site-packages (from matplotlib!=3.6.1,>=3.4->seaborn) (1.3.3)\n",
      "Requirement already satisfied: cycler>=0.10 in c:\\users\\abreu\\desktop\\python\\modelo_de_inadimplencia_e_score\\venv\\lib\\site-packages (from matplotlib!=3.6.1,>=3.4->seaborn) (0.12.1)\n",
      "Requirement already satisfied: fonttools>=4.22.0 in c:\\users\\abreu\\desktop\\python\\modelo_de_inadimplencia_e_score\\venv\\lib\\site-packages (from matplotlib!=3.6.1,>=3.4->seaborn) (4.60.1)\n",
      "Requirement already satisfied: kiwisolver>=1.3.1 in c:\\users\\abreu\\desktop\\python\\modelo_de_inadimplencia_e_score\\venv\\lib\\site-packages (from matplotlib!=3.6.1,>=3.4->seaborn) (1.4.9)\n",
      "Requirement already satisfied: packaging>=20.0 in c:\\users\\abreu\\desktop\\python\\modelo_de_inadimplencia_e_score\\venv\\lib\\site-packages (from matplotlib!=3.6.1,>=3.4->seaborn) (25.0)\n",
      "Requirement already satisfied: pillow>=8 in c:\\users\\abreu\\desktop\\python\\modelo_de_inadimplencia_e_score\\venv\\lib\\site-packages (from matplotlib!=3.6.1,>=3.4->seaborn) (11.3.0)\n",
      "Requirement already satisfied: pyparsing>=3 in c:\\users\\abreu\\desktop\\python\\modelo_de_inadimplencia_e_score\\venv\\lib\\site-packages (from matplotlib!=3.6.1,>=3.4->seaborn) (3.2.5)\n",
      "Requirement already satisfied: python-dateutil>=2.7 in c:\\users\\abreu\\desktop\\python\\modelo_de_inadimplencia_e_score\\venv\\lib\\site-packages (from matplotlib!=3.6.1,>=3.4->seaborn) (2.9.0.post0)\n",
      "Requirement already satisfied: pytz>=2020.1 in c:\\users\\abreu\\desktop\\python\\modelo_de_inadimplencia_e_score\\venv\\lib\\site-packages (from pandas>=1.2->seaborn) (2025.2)\n",
      "Requirement already satisfied: tzdata>=2022.7 in c:\\users\\abreu\\desktop\\python\\modelo_de_inadimplencia_e_score\\venv\\lib\\site-packages (from pandas>=1.2->seaborn) (2025.2)\n",
      "Requirement already satisfied: six>=1.5 in c:\\users\\abreu\\desktop\\python\\modelo_de_inadimplencia_e_score\\venv\\lib\\site-packages (from python-dateutil>=2.7->matplotlib!=3.6.1,>=3.4->seaborn) (1.17.0)\n",
      "Note: you may need to restart the kernel to use updated packages.\n"
     ]
    },
    {
     "name": "stderr",
     "output_type": "stream",
     "text": [
      "\n",
      "[notice] A new release of pip is available: 25.0.1 -> 25.2\n",
      "[notice] To update, run: python.exe -m pip install --upgrade pip\n"
     ]
    },
    {
     "name": "stdout",
     "output_type": "stream",
     "text": [
      "Requirement already satisfied: statsmodels in c:\\users\\abreu\\desktop\\python\\modelo_de_inadimplencia_e_score\\venv\\lib\\site-packages (0.14.5)\n",
      "Requirement already satisfied: numpy<3,>=1.22.3 in c:\\users\\abreu\\desktop\\python\\modelo_de_inadimplencia_e_score\\venv\\lib\\site-packages (from statsmodels) (2.3.3)\n",
      "Requirement already satisfied: scipy!=1.9.2,>=1.8 in c:\\users\\abreu\\desktop\\python\\modelo_de_inadimplencia_e_score\\venv\\lib\\site-packages (from statsmodels) (1.16.2)\n",
      "Requirement already satisfied: pandas!=2.1.0,>=1.4 in c:\\users\\abreu\\desktop\\python\\modelo_de_inadimplencia_e_score\\venv\\lib\\site-packages (from statsmodels) (2.3.3)\n",
      "Requirement already satisfied: patsy>=0.5.6 in c:\\users\\abreu\\desktop\\python\\modelo_de_inadimplencia_e_score\\venv\\lib\\site-packages (from statsmodels) (1.0.2)\n",
      "Requirement already satisfied: packaging>=21.3 in c:\\users\\abreu\\desktop\\python\\modelo_de_inadimplencia_e_score\\venv\\lib\\site-packages (from statsmodels) (25.0)\n",
      "Requirement already satisfied: python-dateutil>=2.8.2 in c:\\users\\abreu\\desktop\\python\\modelo_de_inadimplencia_e_score\\venv\\lib\\site-packages (from pandas!=2.1.0,>=1.4->statsmodels) (2.9.0.post0)\n",
      "Requirement already satisfied: pytz>=2020.1 in c:\\users\\abreu\\desktop\\python\\modelo_de_inadimplencia_e_score\\venv\\lib\\site-packages (from pandas!=2.1.0,>=1.4->statsmodels) (2025.2)\n",
      "Requirement already satisfied: tzdata>=2022.7 in c:\\users\\abreu\\desktop\\python\\modelo_de_inadimplencia_e_score\\venv\\lib\\site-packages (from pandas!=2.1.0,>=1.4->statsmodels) (2025.2)\n",
      "Requirement already satisfied: six>=1.5 in c:\\users\\abreu\\desktop\\python\\modelo_de_inadimplencia_e_score\\venv\\lib\\site-packages (from python-dateutil>=2.8.2->pandas!=2.1.0,>=1.4->statsmodels) (1.17.0)\n",
      "Note: you may need to restart the kernel to use updated packages.\n"
     ]
    },
    {
     "name": "stderr",
     "output_type": "stream",
     "text": [
      "\n",
      "[notice] A new release of pip is available: 25.0.1 -> 25.2\n",
      "[notice] To update, run: python.exe -m pip install --upgrade pip\n"
     ]
    }
   ],
   "source": [
    "%pip install pandas\n",
    "%pip install scikit-learn\n",
    "%pip install matplotlib\n",
    "%pip install seaborn\n",
    "%pip install statsmodels\n",
    "\n",
    "import pandas as pd\n",
    "import matplotlib.pyplot as plt\n",
    "import numpy as np\n",
    "import seaborn as sns\n",
    "from sklearn.model_selection import train_test_split\n",
    "from sklearn.preprocessing import StandardScaler\n",
    "from sklearn.linear_model import LogisticRegression\n",
    "from sklearn.metrics import classification_report, confusion_matrix, roc_auc_score\n",
    "from statsmodels.stats.outliers_influence import variance_inflation_factor\n",
    "import pickle\n"
   ]
  },
  {
   "cell_type": "code",
   "execution_count": 8,
   "id": "f816ed91",
   "metadata": {},
   "outputs": [],
   "source": [
    "# =========================================================\n",
    "# 1 - Ler o dataset\n",
    "# =========================================================\n",
    "\"\"\"header=1     faz com que a linha 1 (segunda linha) contenha o nome das colunas (cabeçalho)\"\"\"\n",
    "df = pd.read_excel('default_of_credit_card_clients.xls', header=1)\n",
    "\n",
    "# Remover coluna não útil (ID)\n",
    "df = df.drop(columns=['ID'])\n",
    "\n",
    "# =========================================================\n",
    "# 2 - Criar novas variáveis (feature engineering)\n",
    "# =========================================================\n",
    "\"\"\"\n",
    "Credit_per_Age: quanto crédito o cliente possui em relação à idade; clientes muito jovens com limites altos tendem a ser mais arriscados.\n",
    "BILL_MEAN: média das dívidas nos 6 meses; mostra o nível médio de endividamento.\n",
    "BILL_STD: desvio padrão; mede a variação das dívidas ao longo do tempo.\n",
    "BILL_TREND: diferença entre a dívida mais recente e a mais antiga; indica tendência (a dívida está crescendo ou diminuindo).\n",
    "PAY_MEAN: média dos valores pagos.\n",
    "PAY_STD: variação dos pagamentos.\n",
    "PAY_TREND: tendência dos pagamentos (pagando mais ou menos com o tempo).\n",
    "PAY_to_BILL_MEAN: proporção média do valor pago em relação à dívida média.\n",
    "PAY_to_LIMIT: quanto o cliente paga, em média, em relação ao limite total.\n",
    "BILL_to_LIMIT: quanto o cliente costuma dever em relação ao limite.\n",
    "MAX_DELAY: maior atraso registrado.\n",
    "MEAN_DELAY: atraso médio (considerando -1 como 0, porque -1 significa “pagou adiantado”).\n",
    "N_DELAY: número de meses com atraso.\n",
    "ANY_DELAY: 1 se o cliente atrasou em qualquer mês, 0 se nunca atrasou.\n",
    "HIGH_UTILIZATION: 1 se o cliente costuma usar mais de 80% do limite.\n",
    "LOW_PAYMENT_RATIO: 1 se o cliente normalmente paga menos da metade da fatura.\n",
    "\"\"\"\n",
    "\n",
    "bill_cols = ['BILL_AMT1','BILL_AMT2','BILL_AMT3','BILL_AMT4','BILL_AMT5','BILL_AMT6']\n",
    "pay_cols = ['PAY_AMT1','PAY_AMT2','PAY_AMT3','PAY_AMT4','PAY_AMT5','PAY_AMT6']\n",
    "pay_status = ['PAY_0','PAY_2','PAY_3','PAY_4','PAY_5','PAY_6']\n",
    "df['Credit_per_Age'] = df['LIMIT_BAL'] / (df['AGE'] + 1)\n",
    "df['BILL_MEAN'] = df[bill_cols].mean(axis=1)\n",
    "df['BILL_STD'] = df[bill_cols].std(axis=1)\n",
    "df['BILL_TREND'] = df[bill_cols].iloc[:, 0] - df[bill_cols].iloc[:, -1]\n",
    "df['PAY_MEAN'] = df[pay_cols].mean(axis=1)\n",
    "df['PAY_STD'] = df[pay_cols].std(axis=1)\n",
    "df['PAY_TREND'] = df[pay_cols].iloc[:, 0] - df[pay_cols].iloc[:, -1]\n",
    "df['PAY_to_BILL_MEAN'] = df['PAY_MEAN'] / (df['BILL_MEAN'] + 1)\n",
    "df['PAY_to_LIMIT'] = df['PAY_MEAN'] / (df['LIMIT_BAL'] + 1)\n",
    "df['BILL_to_LIMIT'] = df['BILL_MEAN'] / (df['LIMIT_BAL'] + 1)\n",
    "df['MAX_DELAY'] = df[pay_status].max(axis=1)\n",
    "df['MEAN_DELAY'] = df[pay_status].replace(-1, 0).mean(axis=1)\n",
    "df['N_DELAY'] = (df[pay_status] > 0).sum(axis=1)\n",
    "df['ANY_DELAY'] = (df[pay_status] > 0).any(axis=1).astype(int)\n",
    "df['HIGH_UTILIZATION'] = (df['BILL_to_LIMIT'] > 0.8).astype(int)\n",
    "df['LOW_PAYMENT_RATIO'] = (df['PAY_to_BILL_MEAN'] < 0.5).astype(int)\n",
    "\n",
    "# Transforma NaN em 0. Evita que o modelo quebre ou gere erros durante o treinamento.\n",
    "df = df.fillna(0)\n",
    "\n",
    "# =========================================================\n",
    "# 3 - Separar X e y.\n",
    "# =========================================================\n",
    "\"\"\"X contém todas as variáveis explicativas (features), enquanto que y contém a variável alvo (se o cliente é ou não inadimplente)\"\"\"\n",
    "X = df.drop('default payment next month', axis=1)\n",
    "y = df['default payment next month']\n",
    "\n",
    "# =========================================================\n",
    "# 4 - Transformar categóricas em dummies\n",
    "# =========================================================\n",
    "\"\"\"Transforma variáveis categóricas em colunas numéricas binárias (One-hot encoding)\n",
    "Ou seja, por exemplo, a variável categórica 'MARRIAGE' que assume três valores distintos (Solteiro, Casado e Outros) é quebrada em 3 \n",
    "variáveis (MARRIAGE_SOLTEIRO, MARRIAGE_CASADO, MARRIAGE_OUTROS) que assumem valores 0 ou 1. drop_first = True evita multicolinearidade\"\"\"\n",
    "X = pd.get_dummies(X, drop_first=True)\n",
    "\n",
    "# =========================================================\n",
    "# 5 - Padronizar numéricas\n",
    "# =========================================================\n",
    "\"\"\"Pega todas as variáveis numéricas e padroniza-as. Assim, a média de cada uma delas passa a ser 0 e o desvio padrão 1.\n",
    "Com isso, todas variáveis ficam com a mesma escala e são comparáveis.\"\"\"\n",
    "num_cols = ['LIMIT_BAL','AGE', 'Credit_per_Age',\n",
    "            'BILL_AMT1','BILL_AMT2','BILL_AMT3','BILL_AMT4','BILL_AMT5','BILL_AMT6',\n",
    "            'PAY_AMT1','PAY_AMT2','PAY_AMT3','PAY_AMT4','PAY_AMT5','PAY_AMT6',\n",
    "            'BILL_MEAN', 'BILL_STD', 'BILL_TREND', 'PAY_MEAN', 'PAY_STD', 'PAY_TREND',\n",
    "            'PAY_to_BILL_MEAN', 'PAY_to_LIMIT', 'BILL_to_LIMIT', 'MAX_DELAY', 'MEAN_DELAY',\n",
    "            'N_DELAY', 'ANY_DELAY', 'HIGH_UTILIZATION', 'LOW_PAYMENT_RATIO'\n",
    "            ]\n",
    "scaler = StandardScaler()\n",
    "X[num_cols] = scaler.fit_transform(X[num_cols])\n",
    "\n",
    "# =========================================================\n",
    "# 6 - Dividir treino/teste\n",
    "# =========================================================\n",
    "\"\"\"\n",
    "O objetivo é avaliar se o modelo aprendeu padrões reais ou apenas decorou o conjunto de treino (overfitting).\n",
    "Por isso, dividimos os dados em:\n",
    "    X_train, y_train -> dados usados para treinar o modelo (80%)\n",
    "    X_test, y_test -> dados usados para testar o modelo (20%)\n",
    "Onde o treino é usado para que o modelo 'aprenda os padrões', ou seja, ajuste seus coeficientes\n",
    "e o teste é usado para avaliar o desempenho do modelo com dados nunca vistos.\n",
    "random_state=42     fixa o sorteio dos dados e garante reprodutibilidade\n",
    "stratify=y      garante que a proporção de inadimplentes e adimplentes seja mantida nos dois conjuntos\n",
    "\"\"\"\n",
    "X_train, X_test, y_train, y_test = train_test_split(X, y, test_size=0.2, random_state=42, stratify=y)"
   ]
  },
  {
   "cell_type": "code",
   "execution_count": 9,
   "id": "6431527b",
   "metadata": {},
   "outputs": [
    {
     "name": "stdout",
     "output_type": "stream",
     "text": [
      "--- Regressão Logística ---\n",
      "              precision    recall  f1-score   support\n",
      "\n",
      "           0       0.89      0.68      0.77      4673\n",
      "           1       0.38      0.69      0.49      1327\n",
      "\n",
      "    accuracy                           0.68      6000\n",
      "   macro avg       0.63      0.69      0.63      6000\n",
      "weighted avg       0.77      0.68      0.71      6000\n",
      "\n",
      "AUC-ROC: 0.748\n"
     ]
    },
    {
     "data": {
      "image/png": "[encoded data removed]",
      "text/plain": [
       "<Figure size 500x400 with 2 Axes>"
      ]
     },
     "metadata": {},
     "output_type": "display_data"
    }
   ],
   "source": [
    "# =========================================================\n",
    "# 7 - Balanceamento com class_weight\n",
    "# =========================================================\n",
    "\"\"\"\n",
    "Cria-se um modelo de regressão logística\n",
    "max_iter=10000   garante convergência (mais iterações para ajustar os coeficientes)\n",
    "solver='lbfgs'  é o algoritmo de otimização (método numérico) usado para encontrar os melhores pesos\n",
    "class_weight='balanced'     faz o modelo dar mais peso a classe minonitária (inadimplentes), compensando o desbalanceamento do dataset\n",
    "fit(X_train, y_train)   ajusta os coeficientes com base no conjunto de treino.\n",
    "\n",
    "Em resumo: o modelo aprende a relação entre as variáveis (X) e o resultado (y), penalizando mais erros da classe minoritária.\n",
    "\"\"\"\n",
    "logreg = LogisticRegression(max_iter=10000, solver='lbfgs', class_weight='balanced')\n",
    "logreg.fit(X_train, y_train)\n",
    "\n",
    "# =========================================================\n",
    "# 8 - Ajuste de limiar de decisão\n",
    "# =========================================================\n",
    "\"\"\"\n",
    "predict_proba    retorna as probabilidades previstas de cada cliente (do teste) ser inadimplente. A coluna [:, 1] pega apenas a probabilidade da classe inadimplente.\n",
    "Por padrão, o limite de decisão é 0.5 (threshold). Entretanto, valores menores podem aumentar o \n",
    "recall (identificar mais inadimplentes), mesmo com perda de precisão.\n",
    "A escolha do valor de threshold é uma decisão que deve estar alinhada com os objetivos da empresa.\n",
    "\"\"\"\n",
    "y_pred_prob = logreg.predict_proba(X_test)[:, 1]\n",
    "y_pred = (y_pred_prob >= 0.4).astype(int)\n",
    "\n",
    "# =========================================================\n",
    "# 9 - Avaliação do modelo\n",
    "# =========================================================\n",
    "\"\"\"\n",
    "classification_report traz métricas:\n",
    "    Precisão (precision) → entre os previstos como 1, quantos realmente são 1.\n",
    "    Revocação (recall) → entre os reais 1, quantos o modelo acertou.\n",
    "    F1-score → equilíbrio entre precisão e recall.\n",
    "roc_auc_score mede a área sob a curva ROC, isto é, a capacidade do modelo de separar as classes (inadimplente e adimplente)\n",
    "\"\"\"\n",
    "print(\"--- Regressão Logística ---\")\n",
    "print(classification_report(y_test, y_pred))\n",
    "print(f\"AUC-ROC: {roc_auc_score(y_test, y_pred_prob):.3f}\")\n",
    "\n",
    "# Matriz de confusão. Quantos acertos e erros o modelo cometeu.\n",
    "\"\"\"\n",
    "(Real=0, Previsto=0) -> Cliente adimplente previsto corretamente\n",
    "(Real=0, Previsto=1) -> Cliente adimplente previsto incorretamente \n",
    "(Real=1, Previsto=1) -> Cliente inadimplente previsto corretamente \n",
    "(Real=1, Previsto=0) -> Cliente inadimplente previsto incorretamente \n",
    "\"\"\"\n",
    "cm = confusion_matrix(y_test, y_pred)\n",
    "plt.figure(figsize=(5, 4))\n",
    "sns.heatmap(cm, annot=True, fmt='d', cmap='Blues')\n",
    "plt.title('Matriz de Confusão')\n",
    "plt.xlabel('Previsto')\n",
    "plt.ylabel('Real')\n",
    "plt.show()"
   ]
  },
  {
   "cell_type": "markdown",
   "id": "d58aa3b6",
   "metadata": {},
   "source": [
    "Inicialmente, achei que o modelo estava pronto, porém estava esquecendo de verificar um fator crucial: se há multicolinearidade entre as variáveis.\n",
    "\n",
    "Sem essa verificações pode ser que esteja havendo redundância entre as variáveis de modo que algumas variáveis estejam mais atrapalhando que ajudando o modelo.\n",
    "\n",
    "E foi o que aconteceu... Ao testar algumas valores em 'app.py', percebi que o modelo estava dando um *score maior para indivíduos que mais atrasam os pagamentos*, o que é um absurdo.\n",
    "\n",
    "Então sustentei minha hipótese e verifique se havia multicolinearidade:"
   ]
  },
  {
   "cell_type": "code",
   "execution_count": 10,
   "id": "9d6aa16c",
   "metadata": {},
   "outputs": [
    {
     "name": "stderr",
     "output_type": "stream",
     "text": [
      "c:\\Users\\ABREU\\Desktop\\Python\\Modelo_de_Inadimplencia_e_Score\\venv\\Lib\\site-packages\\statsmodels\\stats\\outliers_influence.py:197: RuntimeWarning: divide by zero encountered in scalar divide\n",
      "  vif = 1. / (1. - r_squared_i)\n"
     ]
    },
    {
     "name": "stdout",
     "output_type": "stream",
     "text": [
      "              Feature        VIF\n",
      "16          BILL_AMT6        inf\n",
      "17           PAY_AMT1        inf\n",
      "18           PAY_AMT2        inf\n",
      "11          BILL_AMT1        inf\n",
      "12          BILL_AMT2        inf\n",
      "13          BILL_AMT3        inf\n",
      "14          BILL_AMT4        inf\n",
      "19           PAY_AMT3        inf\n",
      "20           PAY_AMT4        inf\n",
      "21           PAY_AMT5        inf\n",
      "22           PAY_AMT6        inf\n",
      "27           PAY_MEAN        inf\n",
      "29          PAY_TREND        inf\n",
      "26         BILL_TREND        inf\n",
      "15          BILL_AMT5        inf\n",
      "24          BILL_MEAN        inf\n",
      "0           LIMIT_BAL  23.565281\n",
      "23     Credit_per_Age  22.556876\n",
      "34         MEAN_DELAY  16.960710\n",
      "33          MAX_DELAY  15.680156\n",
      "36          ANY_DELAY  10.668396\n",
      "1                 SEX   7.754968\n",
      "28            PAY_STD   7.739193\n",
      "3            MARRIAGE   6.897261\n",
      "32      BILL_to_LIMIT   6.454217\n",
      "35            N_DELAY   6.306630\n",
      "9               PAY_5   6.122951\n",
      "2           EDUCATION   5.767014\n",
      "8               PAY_4   5.638933\n",
      "6               PAY_2   5.386183\n",
      "7               PAY_3   5.012734\n",
      "10              PAY_6   4.588262\n",
      "25           BILL_STD   4.410154\n",
      "5               PAY_0   3.689099\n",
      "38  LOW_PAYMENT_RATIO   2.874848\n",
      "4                 AGE   2.555450\n",
      "37   HIGH_UTILIZATION   2.442706\n",
      "31       PAY_to_LIMIT   2.293378\n",
      "30   PAY_to_BILL_MEAN   1.009824\n"
     ]
    }
   ],
   "source": [
    "# Pegar apenas as variáveis numéricas do dataset\n",
    "X_numeric = X.select_dtypes(include=['float64', 'int64'])\n",
    "\n",
    "# Armazenar resultados em dataframe\n",
    "vif_data = pd.DataFrame()\n",
    "vif_data['Feature'] = X_numeric.columns\n",
    "vif_data['VIF'] = [variance_inflation_factor(X_numeric.values, i) \n",
    "                   for i in range(X_numeric.shape[1])]\n",
    "\n",
    "# Ordenar por VIF decrescente\n",
    "vif_data = vif_data.sort_values(by='VIF', ascending=False)\n",
    "print(vif_data)"
   ]
  },
  {
   "cell_type": "markdown",
   "id": "df40df42",
   "metadata": {},
   "source": [
    "Utilizei outras formas de identificar multicolinearidade, mas o VIF foi o mais assertivo.\n",
    "\n",
    "vif = inf => colinearidade perfeita;\n",
    "vif > 10 => colineares;\n",
    "vif > 5 => moderadamente colineares;\n",
    "\n",
    "Com isso, fiz testei algumas combinações de variáveis e encontrei as que não apresentava multicolinearidade significativa. (Valores de VIF máximos estavam em 7.6 e 7.5)"
   ]
  },
  {
   "cell_type": "code",
   "execution_count": null,
   "id": "24f5ad65",
   "metadata": {},
   "outputs": [
    {
     "name": "stdout",
     "output_type": "stream",
     "text": [
      "--- Regressão Logística ---\n",
      "              precision    recall  f1-score   support\n",
      "\n",
      "           0       0.88      0.69      0.77      4673\n",
      "           1       0.38      0.67      0.49      1327\n",
      "\n",
      "    accuracy                           0.68      6000\n",
      "   macro avg       0.63      0.68      0.63      6000\n",
      "weighted avg       0.77      0.68      0.71      6000\n",
      "\n",
      "AUC-ROC: 0.748\n"
     ]
    },
    {
     "data": {
      "image/png": "[encoded data removed]",
      "text/plain": [
       "<Figure size 500x400 with 2 Axes>"
      ]
     },
     "metadata": {},
     "output_type": "display_data"
    },
    {
     "name": "stdout",
     "output_type": "stream",
     "text": [
      "A matriz de correlação e o valor de AUC permaneceram praticamente os mesmos. Porém, a melhoria no modelo é expressiva e permite que o modelo faça sentido.\n",
      "\n",
      "              Feature       VIF\n",
      "2                 SEX  7.606895\n",
      "15            PAY_STD  7.516994\n",
      "14           PAY_MEAN  6.825098\n",
      "4            MARRIAGE  6.688207\n",
      "19      BILL_to_LIMIT  5.879921\n",
      "3           EDUCATION  5.722438\n",
      "9               PAY_5  4.983422\n",
      "20            N_DELAY  4.691825\n",
      "8               PAY_4  4.436169\n",
      "12           BILL_STD  3.908411\n",
      "7               PAY_3  3.773548\n",
      "6               PAY_2  3.600167\n",
      "10              PAY_6  3.462804\n",
      "11          BILL_MEAN  3.125689\n",
      "21          ANY_DELAY  2.941006\n",
      "5               PAY_0  2.639831\n",
      "1      Credit_per_Age  2.411858\n",
      "22   HIGH_UTILIZATION  2.379861\n",
      "13         BILL_TREND  2.357373\n",
      "18       PAY_to_LIMIT  2.263484\n",
      "23  LOW_PAYMENT_RATIO  2.009925\n",
      "0                 AGE  1.272850\n",
      "16          PAY_TREND  1.126680\n",
      "17   PAY_to_BILL_MEAN  1.005476\n",
      "Não há nenhum valor de VIF maior que 10, ou inf (infinito). Ou seja, as variaveis selecionadas não apresentam multicolinearidade\n"
     ]
    },
    {
     "name": "stderr",
     "output_type": "stream",
     "text": [
      "C:\\Users\\ABREU\\AppData\\Local\\Temp\\ipykernel_20712\\3674573255.py:89: FutureWarning: \n",
      "\n",
      "Passing `palette` without assigning `hue` is deprecated and will be removed in v0.14.0. Assign the `y` variable to `hue` and set `legend=False` for the same effect.\n",
      "\n",
      "  sns.barplot(\n"
     ]
    },
    {
     "data": {
      "image/png": "[encoded data removed]",
      "text/plain": [
       "<Figure size 1000x600 with 1 Axes>"
      ]
     },
     "metadata": {},
     "output_type": "display_data"
    },
    {
     "name": "stdout",
     "output_type": "stream",
     "text": [
      "Um impacto positivo no logit aumenta a chance de inadimplência, enquanto que um impacto negativo diminui essa chance.\n"
     ]
    }
   ],
   "source": [
    "# =========================================================\n",
    "# 1 - Mesmo processo anterior, \n",
    "# porém apenas com as variáveis selecionadas\n",
    "# =========================================================\n",
    "\n",
    "# Seleção de variáveis que não apresentam multicolinearidade.\n",
    "selected_features = ['AGE', 'Credit_per_Age',\n",
    "                'SEX', 'EDUCATION', 'MARRIAGE',\n",
    "                'PAY_0', 'PAY_2', 'PAY_3', 'PAY_4', 'PAY_5', 'PAY_6',\n",
    "                'BILL_MEAN', 'BILL_STD', 'BILL_TREND', 'PAY_MEAN', 'PAY_STD', 'PAY_TREND',\n",
    "                'PAY_to_BILL_MEAN', 'PAY_to_LIMIT', 'BILL_to_LIMIT',\n",
    "                'N_DELAY', 'ANY_DELAY', 'HIGH_UTILIZATION', 'LOW_PAYMENT_RATIO']\n",
    "# Variáveis selecionadas numéricas\n",
    "selected_numerics = ['AGE', 'Credit_per_Age',\n",
    "                'BILL_MEAN', 'BILL_STD', 'BILL_TREND', 'PAY_MEAN', 'PAY_STD', 'PAY_TREND',\n",
    "                'PAY_to_BILL_MEAN', 'PAY_to_LIMIT', 'BILL_to_LIMIT',\n",
    "                'N_DELAY', 'ANY_DELAY', 'HIGH_UTILIZATION', 'LOW_PAYMENT_RATIO']\n",
    "# num_cols que será exportado deve ser igual ao modelo filtrado\n",
    "num_cols = selected_numerics.copy()\n",
    "# definir X e y\n",
    "X_selected = df[selected_features]\n",
    "y = df['default payment next month']\n",
    "# dummies\n",
    "X_selected = pd.get_dummies(X_selected, drop_first=True)\n",
    "# padronizar\n",
    "scaler = StandardScaler()\n",
    "X_selected[selected_numerics] = scaler.fit_transform(X_selected[selected_numerics])\n",
    "# dividir treino/teste\n",
    "X_train2, X_test2, y_train, y_test2 = train_test_split(X_selected, y, test_size=0.2, random_state=42, stratify=y)\n",
    "# balancear\n",
    "logreg = LogisticRegression(max_iter=10000, solver='lbfgs', class_weight='balanced')\n",
    "logreg.fit(X_selected, y)\n",
    "# ajuste\n",
    "y_pred_prob2 = logreg.predict_proba(X_test2)[:, 1]\n",
    "y_pred2 = (y_pred_prob2 >= 0.4).astype(int)\n",
    "# avaliação\n",
    "print(\"--- Regressão Logística ---\")\n",
    "print(classification_report(y_test2, y_pred2))\n",
    "print(f\"AUC-ROC: {roc_auc_score(y_test2, y_pred_prob):.3f}\")\n",
    "# matriz de confusão\n",
    "cm = confusion_matrix(y_test2, y_pred2)\n",
    "plt.figure(figsize=(5, 4))\n",
    "sns.heatmap(cm, annot=True, fmt='d', cmap='Blues')\n",
    "plt.title('Matriz de Confusão')\n",
    "plt.xlabel('Previsto')\n",
    "plt.ylabel('Real')\n",
    "plt.show()\n",
    "\n",
    "print('A matriz de correlação e o valor de AUC permaneceram praticamente os mesmos. Porém, a melhoria no modelo é expressiva e permite que o modelo faça sentido.\\n')\n",
    "\n",
    "# =========================================================\n",
    "# 2 - Sem multicolinearidade\n",
    "# =========================================================\n",
    "\n",
    "# Confirmar que as variáveis selecionadas não apresentam multicolinearidade\n",
    "X_numeric = X_selected.select_dtypes(include=['float64', 'int64'])\n",
    "vif_data = pd.DataFrame()\n",
    "vif_data['Feature'] = X_numeric.columns\n",
    "vif_data['VIF'] = [variance_inflation_factor(X_numeric.values, i) \n",
    "                   for i in range(X_numeric.shape[1])]\n",
    "vif_data = vif_data.sort_values(by='VIF', ascending=False)\n",
    "print(vif_data)\n",
    "\n",
    "print('Não há nenhum valor de VIF maior que 10, ou inf (infinito). Ou seja, as variaveis selecionadas não apresentam multicolinearidade')\n",
    "\n",
    "# =========================================================\n",
    "# 3 - Importância das variáveis\n",
    "# =========================================================\n",
    "\n",
    "# Coeficientes e contribuições médias\n",
    "coefs = pd.Series(logreg.coef_[0], index=X_selected.columns)\n",
    "mean_contrib = (X_selected * coefs).mean()\n",
    "\n",
    "# Combinar num DataFrame\n",
    "df_imp = pd.DataFrame({\n",
    "    'Coeficiente': coefs,\n",
    "    'Contribuicao_media': mean_contrib\n",
    "})\n",
    "df_imp['Impacto'] = df_imp['Coeficiente'] * df_imp['Contribuicao_media']\n",
    "\n",
    "# Ordenar por impacto absoluto\n",
    "df_imp = df_imp.reindex(df_imp['Impacto'].abs().sort_values(ascending=False).index)\n",
    "\n",
    "# Selecionar top 10 variáveis por impacto absoluto\n",
    "top10 = df_imp.reindex(df_imp['Impacto'].abs().sort_values(ascending=False).index).head(10)\n",
    "\n",
    "# Visualizar\n",
    "plt.figure(figsize=(10, 6))\n",
    "sns.barplot(\n",
    "    x='Impacto', \n",
    "    y=top10.index, \n",
    "    data=top10,\n",
    "    palette=['#E74C3C' if x > 0 else '#3498DB' for x in top10['Impacto']]\n",
    ")\n",
    "\n",
    "plt.title('Top 10 Variáveis por Impacto no Modelo', fontsize=15)\n",
    "plt.xlabel('Impacto médio no logit')\n",
    "plt.ylabel('')\n",
    "plt.axvline(0, color='gray', linestyle='--', linewidth=1)\n",
    "plt.tight_layout()\n",
    "plt.show()\n",
    "\n",
    "print('Um impacto positivo no logit aumenta a chance de inadimplência, enquanto que um impacto negativo diminui essa chance.')"
   ]
  },
  {
   "cell_type": "markdown",
   "id": "66e974f9",
   "metadata": {},
   "source": [
    "Para permitir exportação, salvar: modelo, scaler, colunas numericas e colunas totais"
   ]
  },
  {
   "cell_type": "code",
   "execution_count": 12,
   "id": "1f4ccf55",
   "metadata": {},
   "outputs": [],
   "source": [
    "# Salvar modelo de regressão logística\n",
    "with open('modelos/modelo_credito.pkl', 'wb') as f:\n",
    "    pickle.dump(logreg, f)\n",
    "\n",
    "# Salvar o StandardScaler\n",
    "with open('modelos/scaler.pkl', 'wb') as f:\n",
    "    pickle.dump(scaler, f)\n",
    "\n",
    "# Salvar lista de colunas numéricas usadas no scaler\n",
    "with open('modelos/num_cols.pkl', 'wb') as f:\n",
    "    pickle.dump(num_cols, f)\n",
    "\n",
    "# Salvar lista final de colunas do modelo (após get_dummies)\n",
    "cols_modelo = X_selected.columns.tolist()\n",
    "with open('modelos/cols_modelo.pkl', 'wb') as f:\n",
    "    pickle.dump(cols_modelo, f)"
   ]
  }
 ],
 "metadata": {
  "kernelspec": {
   "display_name": "venv",
   "language": "python",
   "name": "python3"
  },
  "language_info": {
   "codemirror_mode": {
    "name": "ipython",
    "version": 3
   },
   "file_extension": ".py",
   "mimetype": "text/x-python",
   "name": "python",
   "nbconvert_exporter": "python",
   "pygments_lexer": "ipython3",
   "version": "3.12.10"
  }
 },
 "nbformat": 4,
 "nbformat_minor": 5
}
